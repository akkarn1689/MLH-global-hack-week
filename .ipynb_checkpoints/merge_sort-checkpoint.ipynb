{
 "cells": [
  {
   "cell_type": "code",
   "execution_count": 8,
   "id": "b720f4e4",
   "metadata": {},
   "outputs": [
    {
     "name": "stdout",
     "output_type": "stream",
     "text": [
      "Number of element in the list? 5\n",
      "655\n",
      "8\n",
      "95\n",
      "733\n",
      "24\n",
      "655 8 95 733 24 \n",
      "8 24 95 655 733 \n"
     ]
    }
   ],
   "source": [
    "def mergeSort(arr):\n",
    "    if len(arr) >1:\n",
    "        \n",
    "        m = len(arr) // 2\n",
    "        \n",
    "        left = arr[:m]\n",
    "        right = arr[m:]\n",
    "        \n",
    "        mergeSort(left)\n",
    "        mergeSort(right)\n",
    "        \n",
    "        i=j=k=0\n",
    "        \n",
    "        while i<len(left) and j<len(right):\n",
    "            if left[i] <= right[j]:\n",
    "                arr[k] = left[i]\n",
    "                i+=1\n",
    "            elif left[i] > right[j]:\n",
    "                arr[k] = right[j]\n",
    "                j+=1\n",
    "            \n",
    "            k+=1\n",
    "        \n",
    "        while i < len(left):\n",
    "            arr[k]=left[i]\n",
    "            i+=1\n",
    "            k+=1\n",
    "        while j<len(right):\n",
    "            arr[k]=right[j]\n",
    "            j+=1\n",
    "            k+=1\n",
    "            \n",
    "            \n",
    "def printList(arr):\n",
    "    for i in range(len(arr)):\n",
    "        print(arr[i], end=\" \")\n",
    "    \n",
    "    print()\n",
    "    \n",
    "arr = []\n",
    "n = int(input(\"Number of element in the list? \"))\n",
    "\n",
    "for i in range(n):\n",
    "    temp = int(input())\n",
    "    arr.append(temp)\n",
    "    \n",
    "printList(arr)\n",
    "\n",
    "mergeSort(arr)\n",
    "\n",
    "printList(arr)"
   ]
  }
 ],
 "metadata": {
  "kernelspec": {
   "display_name": "Python 3 (ipykernel)",
   "language": "python",
   "name": "python3"
  },
  "language_info": {
   "codemirror_mode": {
    "name": "ipython",
    "version": 3
   },
   "file_extension": ".py",
   "mimetype": "text/x-python",
   "name": "python",
   "nbconvert_exporter": "python",
   "pygments_lexer": "ipython3",
   "version": "3.9.13"
  }
 },
 "nbformat": 4,
 "nbformat_minor": 5
}
